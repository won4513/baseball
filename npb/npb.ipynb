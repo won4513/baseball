{
 "cells": [
  {
   "cell_type": "code",
   "execution_count": 39,
   "metadata": {},
   "outputs": [],
   "source": [
    "import pandas as pd\n",
    "import numpy as np\n",
    "\n",
    "import seaborn as sns\n",
    "import matplotlib.pyplot as plt\n",
    "\n",
    "# 시각화 한글폰트 설정\n",
    "# 맑은 고딕\n",
    "\n",
    "plt.rc('font', family='Malgun Gothic')\n",
    "sns.set(font=\"Malgun Gothic\",#\"NanumGothicCoding\", \n",
    "        rc={\"axes.unicode_minus\":False}, # 마이너스 부호 깨짐 현상 해결\n",
    "        style='darkgrid')\n",
    "\n",
    "# scipy\n",
    "import scipy.stats as spst"
   ]
  },
  {
   "cell_type": "code",
   "execution_count": 40,
   "metadata": {},
   "outputs": [],
   "source": [
    "npb_p = pd.read_csv('./npb_투수.csv', encoding = 'cp949')\n",
    "npb_b = pd.read_csv('./npb_타자.csv', encoding = 'cp949')\n"
   ]
  },
  {
   "attachments": {},
   "cell_type": "markdown",
   "metadata": {},
   "source": [
    "# 데이터 전처리"
   ]
  },
  {
   "cell_type": "code",
   "execution_count": 41,
   "metadata": {},
   "outputs": [],
   "source": [
    "npb_p['구단'] = npb_p['구단'].str[2:]\n",
    "npb_b['구단'] = npb_b['구단'].str[2:]"
   ]
  },
  {
   "cell_type": "code",
   "execution_count": 42,
   "metadata": {},
   "outputs": [],
   "source": [
    "x = [8,11,12,13,26]\n",
    "y = [7,14,17,22,23,39]\n",
    "for i in npb_p.columns[x]:\n",
    "    npb_p[i] = npb_p[i].str.replace(',','').astype(int)\n",
    "\n",
    "for i in npb_b.columns[y]:\n",
    "    npb_b[i] = npb_b[i].str.replace(',','').astype(int)"
   ]
  },
  {
   "cell_type": "code",
   "execution_count": 43,
   "metadata": {},
   "outputs": [],
   "source": [
    "npb_p['QS비율'] = npb_p['QS비율'].str[:-2]\n",
    "npb_p['QS비율'] = npb_p['QS비율'].astype(float)"
   ]
  },
  {
   "cell_type": "code",
   "execution_count": 44,
   "metadata": {},
   "outputs": [
    {
     "name": "stdout",
     "output_type": "stream",
     "text": [
      "<class 'pandas.core.frame.DataFrame'>\n",
      "RangeIndex: 96 entries, 0 to 95\n",
      "Data columns (total 40 columns):\n",
      " #   Column  Non-Null Count  Dtype  \n",
      "---  ------  --------------  -----  \n",
      " 0   연도      96 non-null     int64  \n",
      " 1   구단      96 non-null     object \n",
      " 2   경기수     96 non-null     int64  \n",
      " 3   승수      96 non-null     int64  \n",
      " 4   타율      96 non-null     float64\n",
      " 5   타점      96 non-null     int64  \n",
      " 6   홈런      96 non-null     int64  \n",
      " 7   안타수     96 non-null     int32  \n",
      " 8   단타      96 non-null     int64  \n",
      " 9   2루타     96 non-null     int64  \n",
      " 10  3루타     96 non-null     int64  \n",
      " 11  출루율     96 non-null     float64\n",
      " 12  장타율     96 non-null     float64\n",
      " 13  OPS     96 non-null     float64\n",
      " 14  득점권 타수  96 non-null     int32  \n",
      " 15  득점권 안타  96 non-null     int64  \n",
      " 16  득점권     96 non-null     float64\n",
      " 17  UC타수    96 non-null     int32  \n",
      " 18  UC안타    96 non-null     int64  \n",
      " 19  UC비율    96 non-null     float64\n",
      " 20  UC홈런    96 non-null     int64  \n",
      " 21  경기수.1   96 non-null     int64  \n",
      " 22  타석수     96 non-null     int32  \n",
      " 23  타수      96 non-null     int32  \n",
      " 24  득점      96 non-null     int64  \n",
      " 25  볼넷      96 non-null     int64  \n",
      " 26  사구      96 non-null     int64  \n",
      " 27  도루시도    96 non-null     int64  \n",
      " 28  도루성공    96 non-null     int64  \n",
      " 29  도루 성공률  96 non-null     float64\n",
      " 30  희생번트시도  96 non-null     int64  \n",
      " 31  희생번트성공  96 non-null     int64  \n",
      " 32  희타 성공률  96 non-null     float64\n",
      " 33  희비      96 non-null     int64  \n",
      " 34  대타수     96 non-null     int64  \n",
      " 35  대타 안타   96 non-null     int64  \n",
      " 36  대타율     96 non-null     float64\n",
      " 37  병살      96 non-null     int64  \n",
      " 38  실책      96 non-null     int64  \n",
      " 39  피삼진     96 non-null     int32  \n",
      "dtypes: float64(9), int32(6), int64(24), object(1)\n",
      "memory usage: 27.9+ KB\n"
     ]
    }
   ],
   "source": [
    "npb_b.info()"
   ]
  },
  {
   "cell_type": "code",
   "execution_count": 46,
   "metadata": {},
   "outputs": [
    {
     "name": "stdout",
     "output_type": "stream",
     "text": [
      "Index(['연도', '구단', '경기수', '승수', '타율', '타점', '홈런', '안타수', '단타', '2루타', '3루타',\n",
      "       '출루율', '장타율', 'OPS', '득점권 타수', '득점권 안타', '득점권', 'UC타수', 'UC안타', 'UC비율',\n",
      "       'UC홈런', '경기수.1', '타석수', '타수', '득점', '볼넷', '사구', '도루시도', '도루성공',\n",
      "       '도루 성공률', '희생번트시도', '희생번트성공', '희타 성공률', '희비', '대타수', '대타 안타', '대타율',\n",
      "       '병살', '실책', '피삼진'],\n",
      "      dtype='object')\n",
      "Index(['연도', '구단', '경기수', '승수', '방어율', '선발 방어율', '구원 방어율', '세이브', '탈삼진수',\n",
      "       '투구이닝', '9이닝당 탈삼진수', '투구수', '타자수', '피안타수', '피홈런', '사구', '사사구', '고의사구',\n",
      "       '실점', '자책점', '완투', '완봉', '무사사구', '피안타율', 'QS비율', 'WHIP', 'UC타수',\n",
      "       'UC피안타', 'UC타율', 'UC피홈런', '홀드'],\n",
      "      dtype='object')\n"
     ]
    }
   ],
   "source": [
    "print(npb_b.columns)\n",
    "print(npb_p.columns)"
   ]
  },
  {
   "cell_type": "code",
   "execution_count": 58,
   "metadata": {},
   "outputs": [],
   "source": [
    "npb_p2 = npb_p.drop(['경기수', '승수'], axis = 1)\n",
    "npb_b2 = npb_b.drop(['경기수.1'], axis = 1)\n",
    "npb_p2.rename(columns = {'UC타수' : 'UC타수허용', 'UC타율' : 'UC피안타율'}, inplace = True)\n",
    "npb_b2.rename(columns = {'UC비율' : 'UC타율'}, inplace = True)"
   ]
  },
  {
   "cell_type": "code",
   "execution_count": 60,
   "metadata": {},
   "outputs": [],
   "source": [
    "npb = pd.merge(npb_b2, npb_p2, how = 'inner', on = ['연도', '구단'])\n"
   ]
  },
  {
   "cell_type": "code",
   "execution_count": 62,
   "metadata": {},
   "outputs": [],
   "source": [
    "npb['승률'] = npb['승수'] / npb['경기수'] "
   ]
  },
  {
   "cell_type": "code",
   "execution_count": 64,
   "metadata": {},
   "outputs": [],
   "source": [
    "npb_uc = npb[['UC타율', 'UC홈런', 'UC피안타율', 'UC피홈런', '승률']]"
   ]
  },
  {
   "cell_type": "code",
   "execution_count": 65,
   "metadata": {},
   "outputs": [
    {
     "data": {
      "text/html": [
       "<div>\n",
       "<style scoped>\n",
       "    .dataframe tbody tr th:only-of-type {\n",
       "        vertical-align: middle;\n",
       "    }\n",
       "\n",
       "    .dataframe tbody tr th {\n",
       "        vertical-align: top;\n",
       "    }\n",
       "\n",
       "    .dataframe thead th {\n",
       "        text-align: right;\n",
       "    }\n",
       "</style>\n",
       "<table border=\"1\" class=\"dataframe\">\n",
       "  <thead>\n",
       "    <tr style=\"text-align: right;\">\n",
       "      <th></th>\n",
       "      <th>UC타율</th>\n",
       "      <th>UC홈런</th>\n",
       "      <th>UC피안타율</th>\n",
       "      <th>UC피홈런</th>\n",
       "      <th>승률</th>\n",
       "    </tr>\n",
       "  </thead>\n",
       "  <tbody>\n",
       "    <tr>\n",
       "      <th>0</th>\n",
       "      <td>0.244</td>\n",
       "      <td>47</td>\n",
       "      <td>0.241</td>\n",
       "      <td>47</td>\n",
       "      <td>0.531469</td>\n",
       "    </tr>\n",
       "    <tr>\n",
       "      <th>1</th>\n",
       "      <td>0.262</td>\n",
       "      <td>49</td>\n",
       "      <td>0.225</td>\n",
       "      <td>58</td>\n",
       "      <td>0.531469</td>\n",
       "    </tr>\n",
       "    <tr>\n",
       "      <th>2</th>\n",
       "      <td>0.221</td>\n",
       "      <td>60</td>\n",
       "      <td>0.234</td>\n",
       "      <td>40</td>\n",
       "      <td>0.503497</td>\n",
       "    </tr>\n",
       "    <tr>\n",
       "      <th>3</th>\n",
       "      <td>0.235</td>\n",
       "      <td>47</td>\n",
       "      <td>0.241</td>\n",
       "      <td>52</td>\n",
       "      <td>0.482517</td>\n",
       "    </tr>\n",
       "    <tr>\n",
       "      <th>4</th>\n",
       "      <td>0.231</td>\n",
       "      <td>51</td>\n",
       "      <td>0.244</td>\n",
       "      <td>53</td>\n",
       "      <td>0.482517</td>\n",
       "    </tr>\n",
       "    <tr>\n",
       "      <th>...</th>\n",
       "      <td>...</td>\n",
       "      <td>...</td>\n",
       "      <td>...</td>\n",
       "      <td>...</td>\n",
       "      <td>...</td>\n",
       "    </tr>\n",
       "    <tr>\n",
       "      <th>91</th>\n",
       "      <td>0.242</td>\n",
       "      <td>49</td>\n",
       "      <td>0.247</td>\n",
       "      <td>39</td>\n",
       "      <td>0.552448</td>\n",
       "    </tr>\n",
       "    <tr>\n",
       "      <th>92</th>\n",
       "      <td>0.266</td>\n",
       "      <td>38</td>\n",
       "      <td>0.270</td>\n",
       "      <td>46</td>\n",
       "      <td>0.510490</td>\n",
       "    </tr>\n",
       "    <tr>\n",
       "      <th>93</th>\n",
       "      <td>0.249</td>\n",
       "      <td>47</td>\n",
       "      <td>0.245</td>\n",
       "      <td>43</td>\n",
       "      <td>0.482517</td>\n",
       "    </tr>\n",
       "    <tr>\n",
       "      <th>94</th>\n",
       "      <td>0.251</td>\n",
       "      <td>38</td>\n",
       "      <td>0.252</td>\n",
       "      <td>41</td>\n",
       "      <td>0.426573</td>\n",
       "    </tr>\n",
       "    <tr>\n",
       "      <th>95</th>\n",
       "      <td>0.242</td>\n",
       "      <td>44</td>\n",
       "      <td>0.266</td>\n",
       "      <td>60</td>\n",
       "      <td>0.398601</td>\n",
       "    </tr>\n",
       "  </tbody>\n",
       "</table>\n",
       "<p>96 rows × 5 columns</p>\n",
       "</div>"
      ],
      "text/plain": [
       "     UC타율  UC홈런  UC피안타율  UC피홈런        승률\n",
       "0   0.244    47   0.241     47  0.531469\n",
       "1   0.262    49   0.225     58  0.531469\n",
       "2   0.221    60   0.234     40  0.503497\n",
       "3   0.235    47   0.241     52  0.482517\n",
       "4   0.231    51   0.244     53  0.482517\n",
       "..    ...   ...     ...    ...       ...\n",
       "91  0.242    49   0.247     39  0.552448\n",
       "92  0.266    38   0.270     46  0.510490\n",
       "93  0.249    47   0.245     43  0.482517\n",
       "94  0.251    38   0.252     41  0.426573\n",
       "95  0.242    44   0.266     60  0.398601\n",
       "\n",
       "[96 rows x 5 columns]"
      ]
     },
     "execution_count": 65,
     "metadata": {},
     "output_type": "execute_result"
    }
   ],
   "source": [
    "npb_uc"
   ]
  },
  {
   "attachments": {},
   "cell_type": "markdown",
   "metadata": {},
   "source": [
    "# 데이터 스케일링"
   ]
  },
  {
   "cell_type": "code",
   "execution_count": 68,
   "metadata": {},
   "outputs": [],
   "source": [
    "pd.options.mode.chained_assignment = None\n",
    "\n",
    "def scaling(df, scale_columns):\n",
    "    for i in scale_columns:\n",
    "        series_mean = df[i].mean()\n",
    "        series_std = df[i].std()\n",
    "        df[i] = df[i].apply(lambda x : (x - series_mean)/series_std)\n",
    "    return df"
   ]
  },
  {
   "cell_type": "code",
   "execution_count": 70,
   "metadata": {},
   "outputs": [
    {
     "data": {
      "text/html": [
       "<div>\n",
       "<style scoped>\n",
       "    .dataframe tbody tr th:only-of-type {\n",
       "        vertical-align: middle;\n",
       "    }\n",
       "\n",
       "    .dataframe tbody tr th {\n",
       "        vertical-align: top;\n",
       "    }\n",
       "\n",
       "    .dataframe thead th {\n",
       "        text-align: right;\n",
       "    }\n",
       "</style>\n",
       "<table border=\"1\" class=\"dataframe\">\n",
       "  <thead>\n",
       "    <tr style=\"text-align: right;\">\n",
       "      <th></th>\n",
       "      <th>UC타율</th>\n",
       "      <th>UC홈런</th>\n",
       "      <th>UC피안타율</th>\n",
       "      <th>UC피홈런</th>\n",
       "      <th>승률</th>\n",
       "    </tr>\n",
       "  </thead>\n",
       "  <tbody>\n",
       "    <tr>\n",
       "      <th>0</th>\n",
       "      <td>-0.476024</td>\n",
       "      <td>-0.363750</td>\n",
       "      <td>-0.544320</td>\n",
       "      <td>-0.575610</td>\n",
       "      <td>0.531469</td>\n",
       "    </tr>\n",
       "    <tr>\n",
       "      <th>1</th>\n",
       "      <td>1.019557</td>\n",
       "      <td>-0.203933</td>\n",
       "      <td>-1.674150</td>\n",
       "      <td>0.609271</td>\n",
       "      <td>0.531469</td>\n",
       "    </tr>\n",
       "    <tr>\n",
       "      <th>2</th>\n",
       "      <td>-2.387044</td>\n",
       "      <td>0.675061</td>\n",
       "      <td>-1.038620</td>\n",
       "      <td>-1.329625</td>\n",
       "      <td>0.503497</td>\n",
       "    </tr>\n",
       "    <tr>\n",
       "      <th>3</th>\n",
       "      <td>-1.223815</td>\n",
       "      <td>-0.363750</td>\n",
       "      <td>-0.544320</td>\n",
       "      <td>-0.037028</td>\n",
       "      <td>0.482517</td>\n",
       "    </tr>\n",
       "    <tr>\n",
       "      <th>4</th>\n",
       "      <td>-1.556166</td>\n",
       "      <td>-0.044116</td>\n",
       "      <td>-0.332476</td>\n",
       "      <td>0.070689</td>\n",
       "      <td>0.482517</td>\n",
       "    </tr>\n",
       "    <tr>\n",
       "      <th>...</th>\n",
       "      <td>...</td>\n",
       "      <td>...</td>\n",
       "      <td>...</td>\n",
       "      <td>...</td>\n",
       "      <td>...</td>\n",
       "    </tr>\n",
       "    <tr>\n",
       "      <th>91</th>\n",
       "      <td>-0.642200</td>\n",
       "      <td>-0.203933</td>\n",
       "      <td>-0.120633</td>\n",
       "      <td>-1.437341</td>\n",
       "      <td>0.552448</td>\n",
       "    </tr>\n",
       "    <tr>\n",
       "      <th>92</th>\n",
       "      <td>1.351908</td>\n",
       "      <td>-1.082928</td>\n",
       "      <td>1.503499</td>\n",
       "      <td>-0.683326</td>\n",
       "      <td>0.510490</td>\n",
       "    </tr>\n",
       "    <tr>\n",
       "      <th>93</th>\n",
       "      <td>-0.060585</td>\n",
       "      <td>-0.363750</td>\n",
       "      <td>-0.261862</td>\n",
       "      <td>-1.006476</td>\n",
       "      <td>0.482517</td>\n",
       "    </tr>\n",
       "    <tr>\n",
       "      <th>94</th>\n",
       "      <td>0.105591</td>\n",
       "      <td>-1.082928</td>\n",
       "      <td>0.232439</td>\n",
       "      <td>-1.221908</td>\n",
       "      <td>0.426573</td>\n",
       "    </tr>\n",
       "    <tr>\n",
       "      <th>95</th>\n",
       "      <td>-0.642200</td>\n",
       "      <td>-0.603476</td>\n",
       "      <td>1.221041</td>\n",
       "      <td>0.824704</td>\n",
       "      <td>0.398601</td>\n",
       "    </tr>\n",
       "  </tbody>\n",
       "</table>\n",
       "<p>96 rows × 5 columns</p>\n",
       "</div>"
      ],
      "text/plain": [
       "        UC타율      UC홈런    UC피안타율     UC피홈런        승률\n",
       "0  -0.476024 -0.363750 -0.544320 -0.575610  0.531469\n",
       "1   1.019557 -0.203933 -1.674150  0.609271  0.531469\n",
       "2  -2.387044  0.675061 -1.038620 -1.329625  0.503497\n",
       "3  -1.223815 -0.363750 -0.544320 -0.037028  0.482517\n",
       "4  -1.556166 -0.044116 -0.332476  0.070689  0.482517\n",
       "..       ...       ...       ...       ...       ...\n",
       "91 -0.642200 -0.203933 -0.120633 -1.437341  0.552448\n",
       "92  1.351908 -1.082928  1.503499 -0.683326  0.510490\n",
       "93 -0.060585 -0.363750 -0.261862 -1.006476  0.482517\n",
       "94  0.105591 -1.082928  0.232439 -1.221908  0.426573\n",
       "95 -0.642200 -0.603476  1.221041  0.824704  0.398601\n",
       "\n",
       "[96 rows x 5 columns]"
      ]
     },
     "execution_count": 70,
     "metadata": {},
     "output_type": "execute_result"
    }
   ],
   "source": [
    "column = npb_uc.columns.difference(['승률'])\n",
    "scaling(npb_uc, column)"
   ]
  },
  {
   "attachments": {},
   "cell_type": "markdown",
   "metadata": {},
   "source": [
    "# AutoML"
   ]
  },
  {
   "cell_type": "code",
   "execution_count": 66,
   "metadata": {},
   "outputs": [],
   "source": [
    "from supervised.automl import AutoML"
   ]
  },
  {
   "cell_type": "code",
   "execution_count": 67,
   "metadata": {},
   "outputs": [],
   "source": [
    "from sklearn.model_selection import train_test_split\n",
    "from sklearn.metrics import *"
   ]
  },
  {
   "cell_type": "code",
   "execution_count": 71,
   "metadata": {},
   "outputs": [],
   "source": [
    "x_train, x_val, y_train, y_val = train_test_split(\n",
    "    npb_uc[npb_uc.columns.difference(['승률'])],\n",
    "    npb_uc['승률'],\n",
    "    test_size=0.2,\n",
    "    random_state=123,\n",
    ")"
   ]
  },
  {
   "cell_type": "code",
   "execution_count": 72,
   "metadata": {},
   "outputs": [
    {
     "name": "stdout",
     "output_type": "stream",
     "text": [
      "AutoML directory: AutoML_1\n",
      "The task is regression with evaluation metric rmse\n",
      "AutoML will use algorithms: ['Baseline', 'Linear', 'Decision Tree', 'Random Forest', 'Xgboost', 'Neural Network']\n",
      "AutoML will ensemble available models\n",
      "AutoML steps: ['simple_algorithms', 'default_algorithms', 'ensemble']\n",
      "* Step simple_algorithms will try to check up to 3 models\n",
      "1_Baseline rmse 0.05267 trained in 0.15 seconds\n",
      "2_DecisionTree rmse 0.041044 trained in 5.94 seconds\n"
     ]
    },
    {
     "name": "stderr",
     "output_type": "stream",
     "text": [
      "c:\\Users\\User\\anaconda3\\lib\\site-packages\\numpy\\core\\fromnumeric.py:84: FutureWarning: In a future version, DataFrame.min(axis=None) will return a scalar min over the entire DataFrame. To retain the old behavior, use 'frame.min(axis=0)' or just 'frame.min()'\n"
     ]
    },
    {
     "name": "stdout",
     "output_type": "stream",
     "text": [
      "3_Linear rmse 0.040674 trained in 4.48 seconds\n",
      "* Step default_algorithms will try to check up to 3 models\n"
     ]
    },
    {
     "name": "stderr",
     "output_type": "stream",
     "text": [
      "c:\\Users\\User\\anaconda3\\lib\\site-packages\\numpy\\core\\fromnumeric.py:84: FutureWarning: In a future version, DataFrame.min(axis=None) will return a scalar min over the entire DataFrame. To retain the old behavior, use 'frame.min(axis=0)' or just 'frame.min()'\n"
     ]
    },
    {
     "name": "stdout",
     "output_type": "stream",
     "text": [
      "4_Default_Xgboost rmse 0.043598 trained in 4.93 seconds\n"
     ]
    },
    {
     "name": "stderr",
     "output_type": "stream",
     "text": [
      "c:\\Users\\User\\anaconda3\\lib\\site-packages\\numpy\\core\\fromnumeric.py:84: FutureWarning: In a future version, DataFrame.min(axis=None) will return a scalar min over the entire DataFrame. To retain the old behavior, use 'frame.min(axis=0)' or just 'frame.min()'\n"
     ]
    },
    {
     "name": "stdout",
     "output_type": "stream",
     "text": [
      "5_Default_NeuralNetwork rmse 0.049403 trained in 4.28 seconds\n"
     ]
    },
    {
     "name": "stderr",
     "output_type": "stream",
     "text": [
      "c:\\Users\\User\\anaconda3\\lib\\site-packages\\numpy\\core\\fromnumeric.py:84: FutureWarning: In a future version, DataFrame.min(axis=None) will return a scalar min over the entire DataFrame. To retain the old behavior, use 'frame.min(axis=0)' or just 'frame.min()'\n"
     ]
    },
    {
     "name": "stdout",
     "output_type": "stream",
     "text": [
      "6_Default_RandomForest rmse 0.042983 trained in 1.08 seconds\n",
      "* Step ensemble will try to check up to 1 model\n",
      "Ensemble rmse 0.034836 trained in 0.15 seconds\n",
      "AutoML fit time: 24.7 seconds\n",
      "AutoML best model: Ensemble\n"
     ]
    },
    {
     "data": {
      "text/plain": [
       "AutoML()"
      ]
     },
     "execution_count": 72,
     "metadata": {},
     "output_type": "execute_result"
    }
   ],
   "source": [
    "automl = AutoML(mode=\"Explain\")\n",
    "automl.fit(x_train, y_train)"
   ]
  },
  {
   "cell_type": "code",
   "execution_count": 73,
   "metadata": {},
   "outputs": [
    {
     "name": "stdout",
     "output_type": "stream",
     "text": [
      "0.03675579564403933\n",
      "0.637462516671033\n"
     ]
    }
   ],
   "source": [
    "y_pred = automl.predict(x_val)\n",
    "print(mean_absolute_error(y_val, y_pred))\n",
    "print(r2_score(y_val, y_pred))"
   ]
  },
  {
   "attachments": {},
   "cell_type": "markdown",
   "metadata": {},
   "source": [
    "## NPB에서는 KBO에서 사용하지 않는 지표인 'UC'라는 지표가 있다.\n",
    "\n",
    "### VDUCP(UC) 산출 방법\n",
    "### 1. 타석에 서는 시점에서의 득점차를 산출하고,\n",
    "### 2. 홈런이 나오면 동점, 이기고, 역전이 되는 장면이라면 VDUCP(UC) 타수로서 카운트\n"
   ]
  }
 ],
 "metadata": {
  "kernelspec": {
   "display_name": "base",
   "language": "python",
   "name": "python3"
  },
  "language_info": {
   "codemirror_mode": {
    "name": "ipython",
    "version": 3
   },
   "file_extension": ".py",
   "mimetype": "text/x-python",
   "name": "python",
   "nbconvert_exporter": "python",
   "pygments_lexer": "ipython3",
   "version": "3.9.13"
  },
  "orig_nbformat": 4
 },
 "nbformat": 4,
 "nbformat_minor": 2
}
