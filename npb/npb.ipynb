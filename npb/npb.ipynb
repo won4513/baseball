{
 "cells": [
  {
   "cell_type": "code",
   "execution_count": 23,
   "metadata": {},
   "outputs": [],
   "source": [
    "import pandas as pd\n",
    "import numpy as np\n",
    "\n",
    "import seaborn as sns\n",
    "import matplotlib.pyplot as plt\n",
    "\n",
    "# 시각화 한글폰트 설정\n",
    "# 맑은 고딕\n",
    "\n",
    "plt.rc('font', family='Malgun Gothic')\n",
    "sns.set(font=\"Malgun Gothic\",#\"NanumGothicCoding\", \n",
    "        rc={\"axes.unicode_minus\":False}, # 마이너스 부호 깨짐 현상 해결\n",
    "        style='darkgrid')\n",
    "\n",
    "# scipy\n",
    "import scipy.stats as spst"
   ]
  },
  {
   "cell_type": "code",
   "execution_count": 48,
   "metadata": {},
   "outputs": [],
   "source": [
    "npb_p = pd.read_csv('./npb_투수.csv', encoding = 'cp949')\n",
    "npb_b = pd.read_csv('./npb_타자.csv', encoding = 'cp949')\n"
   ]
  },
  {
   "cell_type": "code",
   "execution_count": 49,
   "metadata": {},
   "outputs": [],
   "source": [
    "npb_p['구단'] = npb_p['구단'].str[2:]\n",
    "npb_b['구단'] = npb_b['구단'].str[2:]"
   ]
  },
  {
   "cell_type": "code",
   "execution_count": 50,
   "metadata": {},
   "outputs": [],
   "source": [
    "x = [8,11,12,13,26]\n",
    "y = [7,14,17,22,23,39]\n",
    "for i in npb_p.columns[x]:\n",
    "    npb_p[i] = npb_p[i].str.replace(',','').astype(int)\n",
    "\n",
    "for i in npb_b.columns[y]:\n",
    "    npb_b[i] = npb_b[i].str.replace(',','').astype(int)"
   ]
  },
  {
   "cell_type": "code",
   "execution_count": 51,
   "metadata": {},
   "outputs": [],
   "source": [
    "npb_p['QS비율'] = npb_p['QS비율'].str[:-2]\n",
    "npb_p['QS비율'] = npb_p['QS비율'].astype(float)"
   ]
  },
  {
   "cell_type": "code",
   "execution_count": 53,
   "metadata": {},
   "outputs": [
    {
     "name": "stdout",
     "output_type": "stream",
     "text": [
      "<class 'pandas.core.frame.DataFrame'>\n",
      "RangeIndex: 96 entries, 0 to 95\n",
      "Data columns (total 40 columns):\n",
      " #   Column  Non-Null Count  Dtype  \n",
      "---  ------  --------------  -----  \n",
      " 0   연도      96 non-null     int64  \n",
      " 1   구단      96 non-null     object \n",
      " 2   경기수     96 non-null     int64  \n",
      " 3   승수      96 non-null     int64  \n",
      " 4   타율      96 non-null     float64\n",
      " 5   타점      96 non-null     int64  \n",
      " 6   홈런      96 non-null     int64  \n",
      " 7   안타수     96 non-null     int32  \n",
      " 8   단타      96 non-null     int64  \n",
      " 9   2루타     96 non-null     int64  \n",
      " 10  3루타     96 non-null     int64  \n",
      " 11  출루율     96 non-null     float64\n",
      " 12  장타율     96 non-null     float64\n",
      " 13  OPS     96 non-null     float64\n",
      " 14  득점권 타수  96 non-null     int32  \n",
      " 15  득점권 안타  96 non-null     int64  \n",
      " 16  득점권     96 non-null     float64\n",
      " 17  UC타수    96 non-null     int32  \n",
      " 18  UC안타    96 non-null     int64  \n",
      " 19  UC비율    96 non-null     float64\n",
      " 20  UC홈런    96 non-null     int64  \n",
      " 21  경기수.1   96 non-null     int64  \n",
      " 22  타석수     96 non-null     int32  \n",
      " 23  타수      96 non-null     int32  \n",
      " 24  득점      96 non-null     int64  \n",
      " 25  볼넷      96 non-null     int64  \n",
      " 26  사구      96 non-null     int64  \n",
      " 27  도루시도    96 non-null     int64  \n",
      " 28  도루성공    96 non-null     int64  \n",
      " 29  도루 성공률  96 non-null     float64\n",
      " 30  희생번트시도  96 non-null     int64  \n",
      " 31  희생번트성공  96 non-null     int64  \n",
      " 32  희타 성공률  96 non-null     float64\n",
      " 33  희비      96 non-null     int64  \n",
      " 34  대타수     96 non-null     int64  \n",
      " 35  대타 안타   96 non-null     int64  \n",
      " 36  대타율     96 non-null     float64\n",
      " 37  병살      96 non-null     int64  \n",
      " 38  실책      96 non-null     int64  \n",
      " 39  피삼진     96 non-null     int32  \n",
      "dtypes: float64(9), int32(6), int64(24), object(1)\n",
      "memory usage: 27.9+ KB\n"
     ]
    }
   ],
   "source": [
    "npb_b.info()"
   ]
  },
  {
   "cell_type": "code",
   "execution_count": null,
   "metadata": {},
   "outputs": [],
   "source": []
  }
 ],
 "metadata": {
  "kernelspec": {
   "display_name": "base",
   "language": "python",
   "name": "python3"
  },
  "language_info": {
   "codemirror_mode": {
    "name": "ipython",
    "version": 3
   },
   "file_extension": ".py",
   "mimetype": "text/x-python",
   "name": "python",
   "nbconvert_exporter": "python",
   "pygments_lexer": "ipython3",
   "version": "3.8.3"
  },
  "orig_nbformat": 4
 },
 "nbformat": 4,
 "nbformat_minor": 2
}
